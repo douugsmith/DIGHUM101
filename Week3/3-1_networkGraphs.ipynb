{
 "cells": [
  {
   "cell_type": "code",
   "execution_count": null,
   "metadata": {
    "collapsed": true
   },
   "outputs": [],
   "source": [
    "#!pip install networkx\n",
    "import networkx as nx\n",
    "import matplotlib\n",
    "%matplotlib inline\n",
    "import matplotlib.pyplot as plots\n",
    "# plots.style.use('seaborn-colorblind')\n",
    "# plots.style.available"
   ]
  },
  {
   "cell_type": "markdown",
   "metadata": {},
   "source": [
    "# Bash review\n",
    "\n",
    " _Refer to May 31 noteboook/notes._  \n",
    "\n",
    "- What is an HFS?  \n",
    "- Why is it important to understand how data are stored?  \n",
    "- Why is Bash useful? \n",
    "\n",
    "**Open a Bash terminal: **\n",
    "\n",
    "1. Change your current working directory to your root directory.  \n",
    "2. Now, change your current working directory to your home folder. What are the symbols for \"root\" and \"home\" ? \n",
    "3. Create a folder on your Desktop named \"best_author\".  \n",
    "4. Create a file inside of \"best_author\" named `best_author.txt`   \n",
    "5. Use `echo` and `>` to add the name of your one single favorite author inside `authors.txt`\n",
    "6. What is [`vim`](https://en.wikipedia.org/wiki/Vim_(text_editor))?  "
   ]
  },
  {
   "cell_type": "markdown",
   "metadata": {},
   "source": [
    "# (Social) Network analysis\n",
    "\n",
    "[**Social network theory**](https://en.wikipedia.org/wiki/Social_network_analysis) emphasizes human social relationships and the many ways they are expressed. [**Agent-based models**](https://en.wikipedia.org/wiki/Agent-based_model) remind us that relationships between entities are complex, context specific, and might or might not be correlated.  \n",
    "\n",
    "Living entities form highly variable [**social adaptive strategies**](https://www.tandfonline.com/doi/abs/10.1080/00438243.1993.9980243) relative to their [individual contexts](https://plato.stanford.edu/entries/capability-approach/#CorIde). We are interested in the relationships between nodes, or individuals, groups, institutions, and other entities.  \n",
    "\n",
    "Today's notebook demonstrates how to construct a basic network graph using NetworkX.   "
   ]
  },
  {
   "cell_type": "markdown",
   "metadata": {},
   "source": [
    "# Network graphs\n",
    "\n",
    "Finding relationships in meaning is challenging. Although computers help us find meaning in things (such as large bodies of text), they also present their of sets of challenges: proper choice or tools and methods, efficient coding, and interpretation/presentation of results.  \n",
    "\n",
    "Data visualization techniques called [**network graphs**](https://en.wikipedia.org/wiki/Graph_theory) conveniently help us illustrate relationships (edges) between the individual actors (nodes). When these graphs explicitly focus on only the individual actors, they can be referred to as a \"social\" network graph.  \n",
    "\n",
    "[**Brughmans**](https://www.jstor.org/stable/43654602?seq=1#page_scan_tab_contents) provides a great introduction to networks that you will want to read.   "
   ]
  },
  {
   "cell_type": "markdown",
   "metadata": {},
   "source": [
    "# Vocabulary \n",
    "\n",
    "Start by conceptualizing how text data can be stored in a graph. Data are usually stored in two separate files - a node list and an edge list.  \n",
    "\n",
    "Text data are ideal for [**data mining**](https://en.wikipedia.org/wiki/Data_mining) because of the amount of text data available. Data mining approaches seek to find patterns in otherwise unknown data, such as a journal article or book, newspaper publishing company, or an entire library.  \n",
    "\n",
    "Familiarize yourself with some of the [vocabulary beginning on page 43 of this text](https://www.politaktiv.org/documents/10157/29141/SocNet_TheoryApp.pdf)\n",
    "1. Node  \n",
    "2. Edge  \n",
    "3. Degree  \n",
    "4. Weight  \n",
    "5. Betweenness  \n",
    "6. Centrality  \n",
    "7. Degree centrality  \n",
    "8. Betweenness centrality\n",
    "9. Closeness centrality  \n",
    "10. Eigenvector centrality  \n",
    "11. Equivalence relation  \n",
    "12. Group Theory  \n",
    "13. Centralization  \n",
    "14. Clustering coefficient  \n",
    "15. Ego network  \n",
    "16. Personal network  "
   ]
  },
  {
   "cell_type": "markdown",
   "metadata": {},
   "source": [
    "# Conjectures on World Literature\n",
    "\n",
    "[Moretti](https://newleftreview.org/II/1/franco-moretti-conjectures-on-world-literature) took issue with close reading, over-theorization, and linguistic and media imperialisms and noted the problematic nature of the construction of epistemologies for comparison of things and the abstractions that comprise them.\n",
    "    \n",
    "Therefore, reading _more_ text from a greater distance (opposite of \"close\" reading) presents interesting potential for analyzing text because of the ability to illustrate these relationships in a network graph.  \n",
    "\n",
    "Let's look at a network based on two sentences that use some of the same words in non-Euclidean space. Leaving in the stop words are okay for now. We will:  \n",
    "1. construct a graph  \n",
    "2. add nodes  \n",
    "3. construct edges between these nodes  \n",
    "4. define paths betwen certain nodes"
   ]
  },
  {
   "cell_type": "code",
   "execution_count": null,
   "metadata": {
    "collapsed": true
   },
   "outputs": [],
   "source": [
    "text = \"Bob threw the ball to Jill. Jill threw the ball back to Bob. \"\n",
    "print(text)"
   ]
  },
  {
   "cell_type": "markdown",
   "metadata": {},
   "source": [
    "# n-grams\n",
    "\n",
    "If a word is a \"gram\" (node), then a bi-gram represents 1) the word and 2) the one before or after it. A [tri-gram](https://en.wikipedia.org/wiki/Trigram) is three words in succession, etc. You will see learn more about n-grams in Week 4.  \n",
    "\n",
    "Our two sentences in `text` both have an n-gram relationship between them - there is only one Jill and one Bob!  \n",
    "\n",
    "Thus, the weight between Jill, Bob, and threw will be larger than any of the other grams!  \n",
    "\n",
    "Degree = there are two bobs, two jills, two balls, and two threw. \n",
    "\n",
    "Nodes get a \"count\" attribute so that more words = larger nodes. "
   ]
  },
  {
   "cell_type": "markdown",
   "metadata": {},
   "source": [
    "# View the nx help\n",
    "\n",
    "Like the other help files we have talked about, sort through the help files when you get a few minutes spare time - just open the help and read a few lines. Do this 5 times and you should be able to understand what the method does. \n",
    "\n",
    "Although cryptic and frustrating in the first year or two, after some hours of study you will begin to realize that the help files do in fact, tell you everything and exactly what you need to know.  \n",
    "\n",
    "How have you learned to identify pieces of the code? (hint: functions versus arguments)  \n",
    "\n",
    "How do you look up an argument's definition?  \n",
    "\n",
    "Take a few minutes to read the help files - what are we dealing with here?  \n",
    "\n",
    "**NOTE:** we will return to the example in the help file at the end of class to review your understanding.  "
   ]
  },
  {
   "cell_type": "code",
   "execution_count": null,
   "metadata": {
    "collapsed": true
   },
   "outputs": [],
   "source": [
    "help(nx)"
   ]
  },
  {
   "cell_type": "markdown",
   "metadata": {},
   "source": [
    "# Use variable definition to save an `nx` graph type\n",
    "\n",
    "Similar to creating empty lists to be populated with some data such as in a list comprehension, we want to store our graph as a specific, empty type named **`graph1`**.  \n",
    "\n",
    "**This uses the same three-piece recipe for variable assignment just like before:**"
   ]
  },
  {
   "cell_type": "code",
   "execution_count": null,
   "metadata": {
    "collapsed": true
   },
   "outputs": [],
   "source": [
    "graph1 = nx.Graph()\n",
    "print(type(graph1))"
   ]
  },
  {
   "cell_type": "markdown",
   "metadata": {},
   "source": [
    "# Challenge\n",
    "\n",
    "Discuss: what are nodes and edges? Conceptualize a network graph and sketch it out with paper and pencil.  "
   ]
  },
  {
   "cell_type": "markdown",
   "metadata": {},
   "source": [
    "# Plotting nodes\n",
    "\n",
    "Adding nodes are a fundamental first step to constructing a network graph. Let's add the content of a sentence to our empty **`nx`** graph type **`nx_example`** using the **`.add_nodes_from`** method:"
   ]
  },
  {
   "cell_type": "code",
   "execution_count": null,
   "metadata": {
    "collapsed": true
   },
   "outputs": [],
   "source": [
    "graph1.add_nodes_from(text.split())"
   ]
  },
  {
   "cell_type": "code",
   "execution_count": null,
   "metadata": {
    "collapsed": true
   },
   "outputs": [],
   "source": [
    "# view the nodes\n",
    "graph1.nodes()"
   ]
  },
  {
   "cell_type": "markdown",
   "metadata": {},
   "source": [
    "# Plot the nodes\n",
    "\n",
    "We can then draw the graph - what do you notice?"
   ]
  },
  {
   "cell_type": "code",
   "execution_count": null,
   "metadata": {
    "collapsed": true
   },
   "outputs": [],
   "source": [
    "help(nx.draw)"
   ]
  },
  {
   "cell_type": "code",
   "execution_count": null,
   "metadata": {
    "collapsed": true
   },
   "outputs": [],
   "source": [
    "nx.draw(graph1, with_labels=True, font_weight='bold', pos=nx.shell_layout(graph1))"
   ]
  },
  {
   "cell_type": "markdown",
   "metadata": {},
   "source": [
    "# Add more nodes\n",
    "\n",
    "Now lets add a third actor who also throws the ball to Bob.  "
   ]
  },
  {
   "cell_type": "code",
   "execution_count": null,
   "metadata": {
    "collapsed": true
   },
   "outputs": [],
   "source": [
    "text2 = \"Ted threw the ball back to Bob.\"\n",
    "graph1.add_nodes_from(text2.split())\n",
    "graph1.nodes()"
   ]
  },
  {
   "cell_type": "code",
   "execution_count": null,
   "metadata": {
    "collapsed": true
   },
   "outputs": [],
   "source": [
    "nx.draw(graph1, with_labels=True, font_weight='bold', pos=nx.shell_layout(graph1))"
   ]
  },
  {
   "cell_type": "markdown",
   "metadata": {},
   "source": [
    "# Remove punctuation and tokenize the text\n",
    "\n",
    "\"Bob\" and \"Bob.\" are the same, but the period will cause NetworkX to think it is a different node. Replace the periods with blank spaces. "
   ]
  },
  {
   "cell_type": "code",
   "execution_count": null,
   "metadata": {
    "collapsed": true
   },
   "outputs": [],
   "source": [
    "# add strings text and text2\n",
    "text3 = text + text2\n",
    "print(text3)\n",
    "\n",
    "# replace periods with blank spaces\n",
    "text4 = text3.replace(\".\", \" \")\n",
    "print(text4)\n",
    "\n",
    "# tokenize the text\n",
    "tokens = text4.split()\n",
    "tokens"
   ]
  },
  {
   "cell_type": "markdown",
   "metadata": {},
   "source": [
    "# Plot the clean nodes"
   ]
  },
  {
   "cell_type": "code",
   "execution_count": null,
   "metadata": {
    "collapsed": true
   },
   "outputs": [],
   "source": [
    "# delete the old graph1 \n",
    "\n",
    "# if you mess up, start again by running this cell\n",
    "\n",
    "del(graph1)\n",
    "graph1"
   ]
  },
  {
   "cell_type": "code",
   "execution_count": null,
   "metadata": {
    "collapsed": true
   },
   "outputs": [],
   "source": [
    "# redefine graph1 with clean nodes\n",
    "graph1 = nx.Graph()\n",
    "\n",
    "# add nodes from tokens\n",
    "graph1.add_nodes_from(tokens)\n",
    "graph1.nodes()"
   ]
  },
  {
   "cell_type": "code",
   "execution_count": null,
   "metadata": {
    "collapsed": true
   },
   "outputs": [],
   "source": [
    "# plot\n",
    "nx.draw(graph1, with_labels=True, font_weight='bold', pos=nx.shell_layout(graph1))\n",
    "\n",
    "# the correct nodes are now collapsed - pretty neat!"
   ]
  },
  {
   "cell_type": "markdown",
   "metadata": {
    "collapsed": true
   },
   "source": [
    "# Drawing edges\n",
    "\n",
    "Now, let's draw edges between the nodes to represent their relationships. "
   ]
  },
  {
   "cell_type": "code",
   "execution_count": null,
   "metadata": {
    "collapsed": true
   },
   "outputs": [],
   "source": [
    "graph1.add_edges_from([\n",
    "    (\"Jill\", \"Bob\"),\n",
    "    (\"Jill\", \"ball\"),\n",
    "    (\"Bob\", \"ball\"),\n",
    "    (\"Ted\", \"ball\")\n",
    "])"
   ]
  },
  {
   "cell_type": "code",
   "execution_count": null,
   "metadata": {
    "collapsed": true
   },
   "outputs": [],
   "source": [
    "# plot edges\n",
    "nx.draw(graph1, with_labels=True, font_weight='bold', pos=nx.shell_layout(graph1))"
   ]
  },
  {
   "cell_type": "markdown",
   "metadata": {
    "collapsed": true
   },
   "source": [
    "# Challenge\n",
    "\n",
    "What's up with Ted? "
   ]
  },
  {
   "cell_type": "code",
   "execution_count": null,
   "metadata": {
    "collapsed": true
   },
   "outputs": [],
   "source": [
    "print(text4)"
   ]
  },
  {
   "cell_type": "markdown",
   "metadata": {},
   "source": [
    "# Node and edge lists\n",
    "\n",
    "Storing network data in node and edge lists help us plug them into NetworkX methods with ease.  "
   ]
  },
  {
   "cell_type": "code",
   "execution_count": null,
   "metadata": {
    "collapsed": true
   },
   "outputs": [],
   "source": [
    "node_list = [\n",
    "    \"Bob\", \"threw\", \"the\", \"ball\", \"to\", \"Jill\", \n",
    "    \"Jill\", \"threw\", \"the\", \"ball\", \"back\", \"to\", \"Bob\",\n",
    "    \"Ted\", \"threw\", \"the\", \"ball\", \"back\" \"to\", \"Bob\"\n",
    "]\n",
    "\n",
    "edge_list = [\n",
    "    (\"Jill\", \"Bob\"),\n",
    "    (\"Jill\", \"ball\"),\n",
    "    (\"Bob\", \"ball\"),\n",
    "    (\"Ted\", \"ball\")\n",
    "]"
   ]
  },
  {
   "cell_type": "markdown",
   "metadata": {},
   "source": [
    "# Plot again using `node_list` and `edge_list`. "
   ]
  },
  {
   "cell_type": "code",
   "execution_count": null,
   "metadata": {
    "collapsed": true
   },
   "outputs": [],
   "source": [
    "graph2 = nx.Graph(edge_list)\n",
    "nx.draw(graph2, with_labels=True, font_weight='bold', pos=nx.shell_layout(graph2))"
   ]
  },
  {
   "cell_type": "markdown",
   "metadata": {},
   "source": [
    "# Add a path\n",
    "\n",
    "The shortest path between Jill and Bob is through the ball! "
   ]
  },
  {
   "cell_type": "code",
   "execution_count": null,
   "metadata": {
    "collapsed": true
   },
   "outputs": [],
   "source": [
    "help(nx.shortest_path)"
   ]
  },
  {
   "cell_type": "code",
   "execution_count": null,
   "metadata": {
    "collapsed": true
   },
   "outputs": [],
   "source": [
    "nx.shortest_path(graph1, \"Jill\", \"Bob\", weight=1)\n",
    "nx.draw(graph1, with_labels=True, font_weight='bold', pos=nx.spring_layout(graph1))"
   ]
  },
  {
   "cell_type": "markdown",
   "metadata": {},
   "source": [
    "# Look at example from `help(nx.DiGraph)`\n",
    "\n",
    "Just plug our information in!  \n",
    "\n",
    "The ball is common to the three actors in our network, but Ted only knows Jill through the ball, whereas only Bob and Jill directly know each other. "
   ]
  },
  {
   "cell_type": "code",
   "execution_count": null,
   "metadata": {
    "collapsed": true
   },
   "outputs": [],
   "source": [
    "G = nx.DiGraph(edge_list)\n",
    "G.add_nodes_from(node_list)\n",
    "H = nx.path_graph(node_list)\n",
    "G.add_nodes_from(H)\n",
    "G.add_edges_from(edge_list)\n",
    "nx.draw(G, with_labels = True, pos=nx.shell_layout(G))"
   ]
  },
  {
   "cell_type": "code",
   "execution_count": null,
   "metadata": {
    "collapsed": true
   },
   "outputs": [],
   "source": [
    "print(G.number_of_edges())\n",
    "print(G.number_of_nodes())"
   ]
  },
  {
   "cell_type": "markdown",
   "metadata": {
    "collapsed": true
   },
   "source": [
    "# Challenge\n",
    "\n",
    "Try it again using a collection of newspaper articles from 2009:"
   ]
  },
  {
   "cell_type": "code",
   "execution_count": null,
   "metadata": {
    "collapsed": true
   },
   "outputs": [],
   "source": [
    "with open(\"./human-rights-2009.txt\", \"r\") as myfile:\n",
    "    hr = myfile.read()"
   ]
  },
  {
   "cell_type": "code",
   "execution_count": null,
   "metadata": {},
   "outputs": [],
   "source": [
    "print(len(hr))\n",
    "print(len(hr.split()))"
   ]
  },
  {
   "cell_type": "code",
   "execution_count": null,
   "metadata": {},
   "outputs": [],
   "source": [
    "hr.split()[:25]"
   ]
  },
  {
   "cell_type": "code",
   "execution_count": null,
   "metadata": {
    "collapsed": true
   },
   "outputs": [],
   "source": [
    "# Remove punctuation\n",
    "from string import punctuation\n",
    "for char in punctuation:\n",
    "    hr = hr.replace(char, \"\")"
   ]
  },
  {
   "cell_type": "code",
   "execution_count": null,
   "metadata": {},
   "outputs": [],
   "source": [
    "hr.split()[:25]"
   ]
  },
  {
   "cell_type": "code",
   "execution_count": null,
   "metadata": {
    "collapsed": true
   },
   "outputs": [],
   "source": [
    "hr_tokens = hr.split()"
   ]
  },
  {
   "cell_type": "code",
   "execution_count": null,
   "metadata": {},
   "outputs": [],
   "source": [
    "from collections import Counter\n",
    "freq = Counter(hr_tokens)\n",
    "freq.most_common(10)"
   ]
  },
  {
   "cell_type": "markdown",
   "metadata": {},
   "source": [
    "# Wow! That's a lot of stop words. \n",
    "\n",
    "How can you apply what you learned in this notebook as well as in notebook 1-4 to understand the contents of this document?"
   ]
  },
  {
   "cell_type": "code",
   "execution_count": null,
   "metadata": {
    "collapsed": true
   },
   "outputs": [],
   "source": [
    "## YOUR CODE HERE"
   ]
  }
 ],
 "metadata": {
  "kernelspec": {
   "display_name": "Python 3",
   "language": "python",
   "name": "python3"
  },
  "language_info": {
   "codemirror_mode": {
    "name": "ipython",
    "version": 3
   },
   "file_extension": ".py",
   "mimetype": "text/x-python",
   "name": "python",
   "nbconvert_exporter": "python",
   "pygments_lexer": "ipython3",
   "version": "3.6.3"
  }
 },
 "nbformat": 4,
 "nbformat_minor": 2
}
