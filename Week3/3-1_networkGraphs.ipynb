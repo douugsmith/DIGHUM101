{
 "cells": [
  {
   "cell_type": "code",
   "execution_count": 1,
   "metadata": {
    "collapsed": true
   },
   "outputs": [],
   "source": [
    "#!pip install networkx\n",
    "import networkx as nx\n",
    "import matplotlib\n",
    "%matplotlib inline\n",
    "import matplotlib.pyplot as plots\n",
    "# plots.style.use('seaborn-colorblind')\n",
    "# plots.style.available"
   ]
  },
  {
   "cell_type": "markdown",
   "metadata": {},
   "source": [
    "# Bash review\n",
    "\n",
    " _Refer to May 31 noteboook/notes._  \n",
    "\n",
    "- What is an HFS?  \n",
    "- Why is it important to understand how data are stored?  \n",
    "- Why is Bash useful? \n",
    "\n",
    "**Open a Bash terminal: **\n",
    "\n",
    "1. Change your current working directory to your root directory.  \n",
    "2. Now, change your current working directory to your home folder. What are the symbols for \"root\" and \"home\" ? \n",
    "3. Create a folder on your Desktop named \"best_author\".  \n",
    "4. Create a file inside of \"best_author\" named `best_author.txt`   \n",
    "5. Use `echo` and `>` to add the name of your one single favorite author inside `authors.txt`\n",
    "6. What is [`vim`](https://en.wikipedia.org/wiki/Vim_(text_editor))?  "
   ]
  },
  {
   "cell_type": "markdown",
   "metadata": {},
   "source": [
    "# (Social) Network analysis\n",
    "\n",
    "[**Social network theory**](https://en.wikipedia.org/wiki/Social_network_analysis) emphasizes human social relationships and the many ways they are expressed. [**Agent-based models**](https://en.wikipedia.org/wiki/Agent-based_model) remind us that relationships between entities are complex, context specific, and might or might not be correlated.  \n",
    "\n",
    "Living entities form highly variable [**social adaptive strategies**](https://www.tandfonline.com/doi/abs/10.1080/00438243.1993.9980243) relative to their [individual contexts](https://plato.stanford.edu/entries/capability-approach/#CorIde). We are interested in the relationships between nodes, or individuals, groups, institutions, and other entities.  \n",
    "\n",
    "Today's notebook demonstrates how to construct a basic network graph using NetworkX.   "
   ]
  },
  {
   "cell_type": "markdown",
   "metadata": {},
   "source": [
    "# Network graphs\n",
    "\n",
    "Finding relationships in meaning is challenging. Although computers help us find meaning in things (such as large bodies of text), they also present their of sets of challenges: proper choice or tools and methods, efficient coding, and interpretation/presentation of results.  \n",
    "\n",
    "Data visualization techniques called [**network graphs**](https://en.wikipedia.org/wiki/Graph_theory) conveniently help us illustrate relationships (edges) between the individual actors (nodes). When these graphs explicitly focus on only the individual actors, they can be referred to as a \"social\" network graph.  \n",
    "\n",
    "[**Brughmans**](https://www.jstor.org/stable/43654602?seq=1#page_scan_tab_contents) provides a great introduction to networks that you will want to read.   "
   ]
  },
  {
   "cell_type": "markdown",
   "metadata": {},
   "source": [
    "# Vocabulary \n",
    "\n",
    "Start by conceptualizing how text data can be stored in a graph. Data are usually stored in two separate files - a node list and an edge list.  \n",
    "\n",
    "Text data are ideal for [**data mining**](https://en.wikipedia.org/wiki/Data_mining) because of the amount of text data available. Data mining approaches seek to find patterns in otherwise unknown data, such as a journal article or book, newspaper publishing company, or an entire library.  \n",
    "\n",
    "Familiarize yourself with some of the [vocabulary beginning on page 43 of this text](https://www.politaktiv.org/documents/10157/29141/SocNet_TheoryApp.pdf)\n",
    "1. Node  \n",
    "2. Edge  \n",
    "3. Degree  \n",
    "4. Weight  \n",
    "5. Betweenness  \n",
    "6. Centrality  \n",
    "7. Degree centrality  \n",
    "8. Betweenness centrality\n",
    "9. Closeness centrality  \n",
    "10. Eigenvector centrality  \n",
    "11. Equivalence relation  \n",
    "12. Group Theory  \n",
    "13. Centralization  \n",
    "14. Clustering coefficient  \n",
    "15. Ego network  \n",
    "16. Personal network  "
   ]
  },
  {
   "cell_type": "markdown",
   "metadata": {},
   "source": [
    "# Conjectures on World Literature\n",
    "\n",
    "[Moretti](https://newleftreview.org/II/1/franco-moretti-conjectures-on-world-literature) took issue with close reading, over-theorization, and linguistic and media imperialisms and noted the problematic nature of the construction of epistemologies for comparison of things and the abstractions that comprise them.\n",
    "    \n",
    "Therefore, reading _more_ text from a greater distance (opposite of \"close\" reading) presents interesting potential for analyzing text because of the ability to illustrate these relationships in a network graph.  \n",
    "\n",
    "Let's look at a network based on two sentences that use some of the same words in non-Euclidean space. Leaving in the stop words are okay for now. We will:  \n",
    "1. construct a graph  \n",
    "2. add nodes  \n",
    "3. construct edges between these nodes  \n",
    "4. define paths betwen certain nodes"
   ]
  },
  {
   "cell_type": "code",
   "execution_count": 2,
   "metadata": {},
   "outputs": [
    {
     "name": "stdout",
     "output_type": "stream",
     "text": [
      "Bob threw the ball to Jill. Jill threw the ball back to Bob. \n"
     ]
    }
   ],
   "source": [
    "text = \"Bob threw the ball to Jill. Jill threw the ball back to Bob. \"\n",
    "print(text)"
   ]
  },
  {
   "cell_type": "markdown",
   "metadata": {},
   "source": [
    "# n-grams\n",
    "\n",
    "If a word is a \"gram\" (node), then a bi-gram represents 1) the word and 2) the one before or after it. A [tri-gram](https://en.wikipedia.org/wiki/Trigram) is three words in succession, etc. You will see learn more about n-grams in Week 4.  \n",
    "\n",
    "Our two sentences in `text` both have an n-gram relationship between them - there is only one Jill and one Bob!  \n",
    "\n",
    "Thus, the weight between Jill, Bob, and threw will be larger than any of the other grams!  \n",
    "\n",
    "Degree = there are two bobs, two jills, two balls, and two threw. \n",
    "\n",
    "Nodes get a \"count\" attribute so that more words = larger nodes. "
   ]
  },
  {
   "cell_type": "markdown",
   "metadata": {},
   "source": [
    "# View the nx help\n",
    "\n",
    "Like the other help files we have talked about, sort through the help files when you get a few minutes spare time - just open the help and read a few lines. Do this 5 times and you should be able to understand what the method does. \n",
    "\n",
    "Although cryptic and frustrating in the first year or two, after some hours of study you will begin to realize that the help files do in fact, tell you everything and exactly what you need to know.  \n",
    "\n",
    "How have you learned to identify pieces of the code? (hint: functions versus arguments)  \n",
    "\n",
    "How do you look up an argument's definition?  \n",
    "\n",
    "Take a few minutes to read the help files - what are we dealing with here?  \n",
    "\n",
    "**NOTE:** we will return to the example in the help file at the end of class to review your understanding.  "
   ]
  },
  {
   "cell_type": "code",
   "execution_count": 3,
   "metadata": {},
   "outputs": [
    {
     "name": "stdout",
     "output_type": "stream",
     "text": [
      "Help on package networkx:\n",
      "\n",
      "NAME\n",
      "    networkx\n",
      "\n",
      "DESCRIPTION\n",
      "    NetworkX\n",
      "    ========\n",
      "    \n",
      "    NetworkX is a Python package for the creation, manipulation,\n",
      "    and study of the structure, dynamics, and functions\n",
      "    of complex networks.\n",
      "    \n",
      "    Website (including documentation)::\n",
      "    \n",
      "        http://networkx.github.io\n",
      "    \n",
      "    Mailing list::\n",
      "    \n",
      "        https://groups.google.com/forum/#!forum/networkx-discuss\n",
      "    \n",
      "    Source::\n",
      "    \n",
      "        https://github.com/networkx/networkx\n",
      "    \n",
      "    Bug reports::\n",
      "    \n",
      "        https://github.com/networkx/networkx/issues\n",
      "    \n",
      "    Simple example\n",
      "    --------------\n",
      "    \n",
      "    Find the shortest path between two nodes in an undirected graph::\n",
      "    \n",
      "        >>> import networkx as nx\n",
      "        >>> G = nx.Graph()\n",
      "        >>> G.add_edge('A', 'B', weight=4)\n",
      "        >>> G.add_edge('B', 'D', weight=2)\n",
      "        >>> G.add_edge('A', 'C', weight=3)\n",
      "        >>> G.add_edge('C', 'D', weight=4)\n",
      "        >>> nx.shortest_path(G, 'A', 'D', weight='weight')\n",
      "        ['A', 'B', 'D']\n",
      "    \n",
      "    Bugs\n",
      "    ----\n",
      "    \n",
      "    Please report any bugs that you find `here <https://github.com/networkx/networkx/issues>`_.\n",
      "    Or, even better, fork the repository on GitHub and create a pull request (PR).\n",
      "    \n",
      "    License\n",
      "    -------\n",
      "    \n",
      "    Released under the 3-Clause BSD license::\n",
      "    \n",
      "       Copyright (C) 2004-2017 NetworkX Developers\n",
      "       Aric Hagberg <hagberg@lanl.gov>\n",
      "       Dan Schult <dschult@colgate.edu>\n",
      "       Pieter Swart <swart@lanl.gov>\n",
      "\n",
      "PACKAGE CONTENTS\n",
      "    algorithms (package)\n",
      "    classes (package)\n",
      "    convert\n",
      "    convert_matrix\n",
      "    drawing (package)\n",
      "    exception\n",
      "    generators (package)\n",
      "    linalg (package)\n",
      "    readwrite (package)\n",
      "    relabel\n",
      "    release\n",
      "    testing (package)\n",
      "    tests (package)\n",
      "    utils (package)\n",
      "    version\n",
      "\n",
      "SUBMODULES\n",
      "    adjacency\n",
      "    adjlist\n",
      "    algebraicconnectivity\n",
      "    all\n",
      "    assortativity\n",
      "    astar\n",
      "    atlas\n",
      "    attracting\n",
      "    attrmatrix\n",
      "    beamsearch\n",
      "    betweenness\n",
      "    betweenness_subset\n",
      "    biconnected\n",
      "    binary\n",
      "    bipartite\n",
      "    boundary\n",
      "    breadth_first_search\n",
      "    centrality\n",
      "    chains\n",
      "    chordal\n",
      "    classic\n",
      "    clique\n",
      "    closeness\n",
      "    cluster\n",
      "    coloring\n",
      "    communicability_alg\n",
      "    community\n",
      "    components\n",
      "    connected\n",
      "    connectivity\n",
      "    core\n",
      "    coreviews\n",
      "    correlation\n",
      "    covering\n",
      "    current_flow_betweenness\n",
      "    current_flow_betweenness_subset\n",
      "    current_flow_closeness\n",
      "    cuts\n",
      "    cycles\n",
      "    cytoscape\n",
      "    dag\n",
      "    degree_alg\n",
      "    degree_seq\n",
      "    dense\n",
      "    depth_first_search\n",
      "    digraph\n",
      "    directed\n",
      "    distance_measures\n",
      "    distance_regular\n",
      "    dominance\n",
      "    dominating\n",
      "    duplication\n",
      "    edgedfs\n",
      "    edgelist\n",
      "    ego\n",
      "    eigenvector\n",
      "    euler\n",
      "    expanders\n",
      "    filters\n",
      "    flow\n",
      "    flow_matrix\n",
      "    function\n",
      "    generic\n",
      "    geometric\n",
      "    gexf\n",
      "    gml\n",
      "    gpickle\n",
      "    graph\n",
      "    graph6\n",
      "    graphical\n",
      "    graphmatrix\n",
      "    graphml\n",
      "    graphviews\n",
      "    harmonic\n",
      "    hierarchy\n",
      "    hits_alg\n",
      "    hybrid\n",
      "    isolate\n",
      "    isomorphism\n",
      "    jit\n",
      "    joint_degree_seq\n",
      "    json_graph\n",
      "    katz\n",
      "    laplacianmatrix\n",
      "    lattice\n",
      "    layout\n",
      "    leda\n",
      "    line\n",
      "    link_analysis\n",
      "    link_prediction\n",
      "    load\n",
      "    lowest_common_ancestors\n",
      "    matching\n",
      "    minors\n",
      "    mis\n",
      "    mixing\n",
      "    modularitymatrix\n",
      "    multidigraph\n",
      "    multigraph\n",
      "    multiline_adjlist\n",
      "    neighbor_degree\n",
      "    node_link\n",
      "    nx_agraph\n",
      "    nx_pydot\n",
      "    nx_pylab\n",
      "    nx_shp\n",
      "    nx_yaml\n",
      "    operators\n",
      "    ordered\n",
      "    pagerank_alg\n",
      "    pairs\n",
      "    pajek\n",
      "    product\n",
      "    random_clustered\n",
      "    random_graphs\n",
      "    reaching\n",
      "    reportviews\n",
      "    richclub\n",
      "    semiconnected\n",
      "    shortest_paths\n",
      "    simple_paths\n",
      "    small\n",
      "    smetric\n",
      "    social\n",
      "    sparse6\n",
      "    spectrum\n",
      "    stochastic\n",
      "    strongly_connected\n",
      "    structuralholes\n",
      "    subgraph_alg\n",
      "    swap\n",
      "    tournament\n",
      "    traversal\n",
      "    tree\n",
      "    triads\n",
      "    unary\n",
      "    unweighted\n",
      "    vitality\n",
      "    voronoi\n",
      "    weakly_connected\n",
      "    weighted\n",
      "    wiener\n",
      "\n",
      "DATA\n",
      "    __bibtex__ = '@inproceedings{hagberg-2008-exploring,\\nauthor = ...\\nad...\n",
      "    __license__ = 'BSD'\n",
      "    absolute_import = _Feature((2, 5, 0, 'alpha', 1), (3, 0, 0, 'alpha', 0...\n",
      "\n",
      "VERSION\n",
      "    2.0\n",
      "\n",
      "DATE\n",
      "    Mon Jun  4 10:35:23 2018\n",
      "\n",
      "AUTHOR\n",
      "    Aric Hagberg <hagberg@lanl.gov>\n",
      "    Dan Schult <dschult@colgate.edu>\n",
      "    Pieter Swart <swart@lanl.gov>\n",
      "\n",
      "FILE\n",
      "    /Users/evan.admin/anaconda3/lib/python3.6/site-packages/networkx/__init__.py\n",
      "\n",
      "\n"
     ]
    }
   ],
   "source": [
    "help(nx)"
   ]
  },
  {
   "cell_type": "markdown",
   "metadata": {},
   "source": [
    "# Use variable definition to save an `nx` graph type\n",
    "\n",
    "Similar to creating empty lists to be populated with some data such as in a list comprehension, we want to store our graph as a specific, empty type named **`graph1`**.  \n",
    "\n",
    "**This uses the same three-piece recipe for variable assignment just like before:**"
   ]
  },
  {
   "cell_type": "code",
   "execution_count": 4,
   "metadata": {},
   "outputs": [
    {
     "name": "stdout",
     "output_type": "stream",
     "text": [
      "<class 'networkx.classes.graph.Graph'>\n"
     ]
    }
   ],
   "source": [
    "graph1 = nx.Graph()\n",
    "print(type(graph1))"
   ]
  },
  {
   "cell_type": "markdown",
   "metadata": {},
   "source": [
    "# Challenge\n",
    "\n",
    "Discuss: what are nodes and edges? Conceptualize a network graph and sketch it out with paper and pencil.  "
   ]
  },
  {
   "cell_type": "markdown",
   "metadata": {},
   "source": [
    "# Plotting nodes\n",
    "\n",
    "Adding nodes are a fundamental first step to constructing a network graph. Let's add the content of a sentence to our empty **`nx`** graph type **`nx_example`** using the **`.add_nodes_from`** method:"
   ]
  },
  {
   "cell_type": "code",
   "execution_count": 5,
   "metadata": {
    "collapsed": true
   },
   "outputs": [],
   "source": [
    "graph1.add_nodes_from(text.split())"
   ]
  },
  {
   "cell_type": "code",
   "execution_count": 6,
   "metadata": {},
   "outputs": [
    {
     "data": {
      "text/plain": [
       "NodeView(('Bob', 'threw', 'the', 'ball', 'to', 'Jill.', 'Jill', 'back', 'Bob.'))"
      ]
     },
     "execution_count": 6,
     "metadata": {},
     "output_type": "execute_result"
    }
   ],
   "source": [
    "# view the nodes\n",
    "graph1.nodes()"
   ]
  },
  {
   "cell_type": "markdown",
   "metadata": {},
   "source": [
    "# Plot the nodes\n",
    "\n",
    "We can then draw the graph - what do you notice?"
   ]
  },
  {
   "cell_type": "code",
   "execution_count": 7,
   "metadata": {},
   "outputs": [
    {
     "name": "stdout",
     "output_type": "stream",
     "text": [
      "Help on function draw in module networkx.drawing.nx_pylab:\n",
      "\n",
      "draw(G, pos=None, ax=None, **kwds)\n",
      "    Draw the graph G with Matplotlib.\n",
      "    \n",
      "    Draw the graph as a simple representation with no node\n",
      "    labels or edge labels and using the full Matplotlib figure area\n",
      "    and no axis labels by default.  See draw_networkx() for more\n",
      "    full-featured drawing that allows title, axis labels etc.\n",
      "    \n",
      "    Parameters\n",
      "    ----------\n",
      "    G : graph\n",
      "       A networkx graph\n",
      "    \n",
      "    pos : dictionary, optional\n",
      "       A dictionary with nodes as keys and positions as values.\n",
      "       If not specified a spring layout positioning will be computed.\n",
      "       See :py:mod:`networkx.drawing.layout` for functions that\n",
      "       compute node positions.\n",
      "    \n",
      "    ax : Matplotlib Axes object, optional\n",
      "       Draw the graph in specified Matplotlib axes.\n",
      "    \n",
      "    kwds : optional keywords\n",
      "       See networkx.draw_networkx() for a description of optional keywords.\n",
      "    \n",
      "    Examples\n",
      "    --------\n",
      "    >>> G = nx.dodecahedral_graph()\n",
      "    >>> nx.draw(G)\n",
      "    >>> nx.draw(G, pos=nx.spring_layout(G))  # use spring layout\n",
      "    \n",
      "    See Also\n",
      "    --------\n",
      "    draw_networkx()\n",
      "    draw_networkx_nodes()\n",
      "    draw_networkx_edges()\n",
      "    draw_networkx_labels()\n",
      "    draw_networkx_edge_labels()\n",
      "    \n",
      "    Notes\n",
      "    -----\n",
      "    This function has the same name as pylab.draw and pyplot.draw\n",
      "    so beware when using\n",
      "    \n",
      "    >>> from networkx import *\n",
      "    \n",
      "    since you might overwrite the pylab.draw function.\n",
      "    \n",
      "    With pyplot use\n",
      "    \n",
      "    >>> import matplotlib.pyplot as plt\n",
      "    >>> import networkx as nx\n",
      "    >>> G = nx.dodecahedral_graph()\n",
      "    >>> nx.draw(G)  # networkx draw()\n",
      "    >>> plt.draw()  # pyplot draw()\n",
      "    \n",
      "    Also see the NetworkX drawing examples at\n",
      "    https://networkx.github.io/documentation/latest/auto_examples/index.html\n",
      "\n"
     ]
    }
   ],
   "source": [
    "help(nx.draw)"
   ]
  },
  {
   "cell_type": "code",
   "execution_count": 8,
   "metadata": {},
   "outputs": [
    {
     "data": {
      "image/png": "[encoded data removed]",
      "text/plain": [
       "<matplotlib.figure.Figure at 0x1102c3588>"
      ]
     },
     "metadata": {},
     "output_type": "display_data"
    }
   ],
   "source": [
    "nx.draw(graph1, with_labels=True, font_weight='bold', pos=nx.shell_layout(graph1))"
   ]
  },
  {
   "cell_type": "markdown",
   "metadata": {},
   "source": [
    "# Add more nodes\n",
    "\n",
    "Now lets add a third actor who also throws the ball to Bob.  "
   ]
  },
  {
   "cell_type": "code",
   "execution_count": 9,
   "metadata": {},
   "outputs": [
    {
     "data": {
      "text/plain": [
       "NodeView(('Bob', 'threw', 'the', 'ball', 'to', 'Jill.', 'Jill', 'back', 'Bob.', 'Ted'))"
      ]
     },
     "execution_count": 9,
     "metadata": {},
     "output_type": "execute_result"
    }
   ],
   "source": [
    "text2 = \"Ted threw the ball back to Bob.\"\n",
    "graph1.add_nodes_from(text2.split())\n",
    "graph1.nodes()"
   ]
  },
  {
   "cell_type": "code",
   "execution_count": 10,
   "metadata": {},
   "outputs": [
    {
     "data": {
      "image/png": "[encoded data removed]",
      "text/plain": [
       "<matplotlib.figure.Figure at 0x11038c978>"
      ]
     },
     "metadata": {},
     "output_type": "display_data"
    }
   ],
   "source": [
    "nx.draw(graph1, with_labels=True, font_weight='bold', pos=nx.shell_layout(graph1))"
   ]
  },
  {
   "cell_type": "markdown",
   "metadata": {},
   "source": [
    "# Remove punctuation and tokenize the text\n",
    "\n",
    "\"Bob\" and \"Bob.\" are the same, but the period will cause NetworkX to think it is a different node. Replace the periods with blank spaces. "
   ]
  },
  {
   "cell_type": "code",
   "execution_count": 11,
   "metadata": {},
   "outputs": [
    {
     "name": "stdout",
     "output_type": "stream",
     "text": [
      "Bob threw the ball to Jill. Jill threw the ball back to Bob. Ted threw the ball back to Bob.\n",
      "Bob threw the ball to Jill  Jill threw the ball back to Bob  Ted threw the ball back to Bob \n"
     ]
    },
    {
     "data": {
      "text/plain": [
       "['Bob',\n",
       " 'threw',\n",
       " 'the',\n",
       " 'ball',\n",
       " 'to',\n",
       " 'Jill',\n",
       " 'Jill',\n",
       " 'threw',\n",
       " 'the',\n",
       " 'ball',\n",
       " 'back',\n",
       " 'to',\n",
       " 'Bob',\n",
       " 'Ted',\n",
       " 'threw',\n",
       " 'the',\n",
       " 'ball',\n",
       " 'back',\n",
       " 'to',\n",
       " 'Bob']"
      ]
     },
     "execution_count": 11,
     "metadata": {},
     "output_type": "execute_result"
    }
   ],
   "source": [
    "# add strings text and text2\n",
    "text3 = text + text2\n",
    "print(text3)\n",
    "\n",
    "# replace periods with blank spaces\n",
    "text4 = text3.replace(\".\", \" \")\n",
    "print(text4)\n",
    "\n",
    "# tokenize the text\n",
    "tokens = text4.split()\n",
    "tokens"
   ]
  },
  {
   "cell_type": "markdown",
   "metadata": {},
   "source": [
    "# Plot the clean nodes"
   ]
  },
  {
   "cell_type": "code",
   "execution_count": 12,
   "metadata": {},
   "outputs": [
    {
     "ename": "NameError",
     "evalue": "name 'graph1' is not defined",
     "output_type": "error",
     "traceback": [
      "\u001b[0;31m---------------------------------------------------------------------------\u001b[0m",
      "\u001b[0;31mNameError\u001b[0m                                 Traceback (most recent call last)",
      "\u001b[0;32m<ipython-input-12-efc21c613aab>\u001b[0m in \u001b[0;36m<module>\u001b[0;34m()\u001b[0m\n\u001b[1;32m      4\u001b[0m \u001b[0;34m\u001b[0m\u001b[0m\n\u001b[1;32m      5\u001b[0m \u001b[0;32mdel\u001b[0m\u001b[0;34m(\u001b[0m\u001b[0mgraph1\u001b[0m\u001b[0;34m)\u001b[0m\u001b[0;34m\u001b[0m\u001b[0m\n\u001b[0;32m----> 6\u001b[0;31m \u001b[0mgraph1\u001b[0m\u001b[0;34m\u001b[0m\u001b[0m\n\u001b[0m",
      "\u001b[0;31mNameError\u001b[0m: name 'graph1' is not defined"
     ]
    }
   ],
   "source": [
    "# delete the old graph1 \n",
    "\n",
    "# if you mess up, start again by running this cell\n",
    "\n",
    "del(graph1)\n",
    "graph1"
   ]
  },
  {
   "cell_type": "code",
   "execution_count": 13,
   "metadata": {},
   "outputs": [
    {
     "data": {
      "text/plain": [
       "NodeView(('Bob', 'threw', 'the', 'ball', 'to', 'Jill', 'back', 'Ted'))"
      ]
     },
     "execution_count": 13,
     "metadata": {},
     "output_type": "execute_result"
    }
   ],
   "source": [
    "# redefine graph1 with clean nodes\n",
    "graph1 = nx.Graph()\n",
    "\n",
    "# add nodes from tokens\n",
    "graph1.add_nodes_from(tokens)\n",
    "graph1.nodes()"
   ]
  },
  {
   "cell_type": "code",
   "execution_count": 14,
   "metadata": {},
   "outputs": [
    {
     "data": {
      "image/png": "[encoded data removed]",
      "text/plain": [
       "<matplotlib.figure.Figure at 0x110300978>"
      ]
     },
     "metadata": {},
     "output_type": "display_data"
    }
   ],
   "source": [
    "# plot\n",
    "nx.draw(graph1, with_labels=True, font_weight='bold', pos=nx.shell_layout(graph1))\n",
    "\n",
    "# the correct nodes are now collapsed - pretty neat!"
   ]
  },
  {
   "cell_type": "markdown",
   "metadata": {
    "collapsed": true
   },
   "source": [
    "# Drawing edges\n",
    "\n",
    "Now, let's draw edges between the nodes to represent their relationships. "
   ]
  },
  {
   "cell_type": "code",
   "execution_count": 15,
   "metadata": {
    "collapsed": true
   },
   "outputs": [],
   "source": [
    "graph1.add_edges_from([\n",
    "    (\"Jill\", \"Bob\"),\n",
    "    (\"Jill\", \"ball\"),\n",
    "    (\"Bob\", \"ball\"),\n",
    "    (\"Ted\", \"ball\")\n",
    "])"
   ]
  },
  {
   "cell_type": "code",
   "execution_count": 16,
   "metadata": {},
   "outputs": [
    {
     "data": {
      "image/png": "[encoded data removed]",
      "text/plain": [
       "<matplotlib.figure.Figure at 0x110a639e8>"
      ]
     },
     "metadata": {},
     "output_type": "display_data"
    }
   ],
   "source": [
    "# plot edges\n",
    "nx.draw(graph1, with_labels=True, font_weight='bold', pos=nx.shell_layout(graph1))"
   ]
  },
  {
   "cell_type": "markdown",
   "metadata": {
    "collapsed": true
   },
   "source": [
    "# Challenge\n",
    "\n",
    "What's up with Ted? "
   ]
  },
  {
   "cell_type": "code",
   "execution_count": 17,
   "metadata": {},
   "outputs": [
    {
     "name": "stdout",
     "output_type": "stream",
     "text": [
      "Bob threw the ball to Jill  Jill threw the ball back to Bob  Ted threw the ball back to Bob \n"
     ]
    }
   ],
   "source": [
    "print(text4)"
   ]
  },
  {
   "cell_type": "markdown",
   "metadata": {},
   "source": [
    "# Node and edge lists\n",
    "\n",
    "Storing network data in node and edge lists help us plug them into NetworkX methods with ease.  "
   ]
  },
  {
   "cell_type": "code",
   "execution_count": 18,
   "metadata": {
    "collapsed": true
   },
   "outputs": [],
   "source": [
    "node_list = [\n",
    "    \"Bob\", \"threw\", \"the\", \"ball\", \"to\", \"Jill\", \n",
    "    \"Jill\", \"threw\", \"the\", \"ball\", \"back\", \"to\", \"Bob\",\n",
    "    \"Ted\", \"threw\", \"the\", \"ball\", \"back\" \"to\", \"Bob\"\n",
    "]\n",
    "\n",
    "edge_list = [\n",
    "    (\"Jill\", \"Bob\"),\n",
    "    (\"Jill\", \"ball\"),\n",
    "    (\"Bob\", \"ball\"),\n",
    "    (\"Ted\", \"ball\")\n",
    "]"
   ]
  },
  {
   "cell_type": "markdown",
   "metadata": {},
   "source": [
    "# Plot again using `node_list` and `edge_list`. "
   ]
  },
  {
   "cell_type": "code",
   "execution_count": 19,
   "metadata": {},
   "outputs": [
    {
     "data": {
      "image/png": "[encoded data removed]",
      "text/plain": [
       "<matplotlib.figure.Figure at 0x110a63320>"
      ]
     },
     "metadata": {},
     "output_type": "display_data"
    }
   ],
   "source": [
    "graph2 = nx.Graph(edge_list)\n",
    "nx.draw(graph2, with_labels=True, font_weight='bold', pos=nx.shell_layout(graph2))"
   ]
  },
  {
   "cell_type": "markdown",
   "metadata": {},
   "source": [
    "# Add a path\n",
    "\n",
    "The shortest path between Jill and Bob is through the ball! "
   ]
  },
  {
   "cell_type": "code",
   "execution_count": 20,
   "metadata": {},
   "outputs": [
    {
     "name": "stdout",
     "output_type": "stream",
     "text": [
      "Help on function shortest_path in module networkx.algorithms.shortest_paths.generic:\n",
      "\n",
      "shortest_path(G, source=None, target=None, weight=None)\n",
      "    Compute shortest paths in the graph.\n",
      "    \n",
      "    Parameters\n",
      "    ----------\n",
      "    G : NetworkX graph\n",
      "    \n",
      "    source : node, optional\n",
      "        Starting node for path. If not specified, compute shortest\n",
      "        paths for each possible starting node.\n",
      "    \n",
      "    target : node, optional\n",
      "        Ending node for path. If not specified, compute shortest\n",
      "        paths to all possible nodes.\n",
      "    \n",
      "    weight : None or string, optional (default = None)\n",
      "        If None, every edge has weight/distance/cost 1.\n",
      "        If a string, use this edge attribute as the edge weight.\n",
      "        Any edge attribute not present defaults to 1.\n",
      "    \n",
      "    Returns\n",
      "    -------\n",
      "    path: list or dictionary\n",
      "        All returned paths include both the source and target in the path.\n",
      "    \n",
      "        If the source and target are both specified, return a single list\n",
      "        of nodes in a shortest path from the source to the target.\n",
      "    \n",
      "        If only the source is specified, return a dictionary keyed by\n",
      "        targets with a list of nodes in a shortest path from the source\n",
      "        to one of the targets.\n",
      "    \n",
      "        If only the target is specified, return a dictionary keyed by\n",
      "        sources with a list of nodes in a shortest path from one of the\n",
      "        sources to the target.\n",
      "    \n",
      "        If neither the source nor target are specified return a dictionary\n",
      "        of dictionaries with path[source][target]=[list of nodes in path].\n",
      "    \n",
      "    Examples\n",
      "    --------\n",
      "    >>> G = nx.path_graph(5)\n",
      "    >>> print(nx.shortest_path(G, source=0, target=4))\n",
      "    [0, 1, 2, 3, 4]\n",
      "    >>> p = nx.shortest_path(G, source=0) # target not specified\n",
      "    >>> p[4]\n",
      "    [0, 1, 2, 3, 4]\n",
      "    >>> p = nx.shortest_path(G, target=4) # source not specified\n",
      "    >>> p[0]\n",
      "    [0, 1, 2, 3, 4]\n",
      "    >>> p = nx.shortest_path(G) # source, target not specified\n",
      "    >>> p[0][4]\n",
      "    [0, 1, 2, 3, 4]\n",
      "    \n",
      "    Notes\n",
      "    -----\n",
      "    There may be more than one shortest path between a source and target.\n",
      "    This returns only one of them.\n",
      "    \n",
      "    See Also\n",
      "    --------\n",
      "    all_pairs_shortest_path()\n",
      "    all_pairs_dijkstra_path()\n",
      "    single_source_shortest_path()\n",
      "    single_source_dijkstra_path()\n",
      "\n"
     ]
    }
   ],
   "source": [
    "help(nx.shortest_path)"
   ]
  },
  {
   "cell_type": "code",
   "execution_count": 21,
   "metadata": {},
   "outputs": [
    {
     "data": {
      "image/png": "[encoded data removed]",
      "text/plain": [
       "<matplotlib.figure.Figure at 0x110bcb0b8>"
      ]
     },
     "metadata": {},
     "output_type": "display_data"
    }
   ],
   "source": [
    "nx.shortest_path(graph1, \"Jill\", \"Bob\", weight=1)\n",
    "nx.draw(graph1, with_labels=True, font_weight='bold', pos=nx.spring_layout(graph1))"
   ]
  },
  {
   "cell_type": "markdown",
   "metadata": {},
   "source": [
    "# Look at example from `help(nx.DiGraph)`\n",
    "\n",
    "Just plug our information in!  \n",
    "\n",
    "The ball is common to the three actors in our network, but Ted only knows Jill through the ball, whereas only Bob and Jill directly know each other. "
   ]
  },
  {
   "cell_type": "code",
   "execution_count": 22,
   "metadata": {},
   "outputs": [
    {
     "data": {
      "image/png": "[encoded data removed]",
      "text/plain": [
       "<matplotlib.figure.Figure at 0x11030c518>"
      ]
     },
     "metadata": {},
     "output_type": "display_data"
    }
   ],
   "source": [
    "G = nx.DiGraph(edge_list)\n",
    "G.add_nodes_from(node_list)\n",
    "H = nx.path_graph(node_list)\n",
    "G.add_nodes_from(H)\n",
    "G.add_edges_from(edge_list)\n",
    "nx.draw(G, with_labels = True, pos=nx.shell_layout(G))"
   ]
  },
  {
   "cell_type": "code",
   "execution_count": 23,
   "metadata": {},
   "outputs": [
    {
     "name": "stdout",
     "output_type": "stream",
     "text": [
      "4\n",
      "9\n"
     ]
    }
   ],
   "source": [
    "print(G.number_of_edges())\n",
    "print(G.number_of_nodes())"
   ]
  },
  {
   "cell_type": "markdown",
   "metadata": {
    "collapsed": true
   },
   "source": [
    "# Challenge\n",
    "\n",
    "Make some more networks using a collection of articles from 2009. What preprocessing steps should you  it again using a collection of newspaper articles from 2009:"
   ]
  },
  {
   "cell_type": "code",
   "execution_count": 24,
   "metadata": {
    "collapsed": true
   },
   "outputs": [],
   "source": [
    "with open(\"./human-rights-2009.txt\", \"r\") as myfile:\n",
    "    hr = myfile.read()"
   ]
  },
  {
   "cell_type": "code",
   "execution_count": 25,
   "metadata": {},
   "outputs": [
    {
     "name": "stdout",
     "output_type": "stream",
     "text": [
      "2948247\n",
      "454083\n"
     ]
    }
   ],
   "source": [
    "print(len(hr))\n",
    "print(len(hr.split()))"
   ]
  },
  {
   "cell_type": "code",
   "execution_count": 26,
   "metadata": {},
   "outputs": [
    {
     "data": {
      "text/plain": [
       "['\\ufeff',\n",
       " '1',\n",
       " 'of',\n",
       " '1598',\n",
       " 'DOCUMENTS',\n",
       " 'The',\n",
       " 'New',\n",
       " 'York',\n",
       " 'Times',\n",
       " 'October',\n",
       " '21,',\n",
       " '2009',\n",
       " 'Wednesday',\n",
       " 'Late',\n",
       " 'Edition',\n",
       " '-',\n",
       " 'Final',\n",
       " 'Crossfire:',\n",
       " 'A',\n",
       " 'Rights',\n",
       " 'Group',\n",
       " 'and',\n",
       " 'Israel',\n",
       " 'SECTION:',\n",
       " 'Section']"
      ]
     },
     "execution_count": 26,
     "metadata": {},
     "output_type": "execute_result"
    }
   ],
   "source": [
    "hr.split()[:25]"
   ]
  },
  {
   "cell_type": "code",
   "execution_count": 27,
   "metadata": {
    "collapsed": true
   },
   "outputs": [],
   "source": [
    "# Remove punctuation\n",
    "from string import punctuation\n",
    "for char in punctuation:\n",
    "    hr = hr.replace(char, \"\")"
   ]
  },
  {
   "cell_type": "code",
   "execution_count": 28,
   "metadata": {},
   "outputs": [
    {
     "data": {
      "text/plain": [
       "['\\ufeff',\n",
       " '1',\n",
       " 'of',\n",
       " '1598',\n",
       " 'DOCUMENTS',\n",
       " 'The',\n",
       " 'New',\n",
       " 'York',\n",
       " 'Times',\n",
       " 'October',\n",
       " '21',\n",
       " '2009',\n",
       " 'Wednesday',\n",
       " 'Late',\n",
       " 'Edition',\n",
       " 'Final',\n",
       " 'Crossfire',\n",
       " 'A',\n",
       " 'Rights',\n",
       " 'Group',\n",
       " 'and',\n",
       " 'Israel',\n",
       " 'SECTION',\n",
       " 'Section',\n",
       " 'A']"
      ]
     },
     "execution_count": 28,
     "metadata": {},
     "output_type": "execute_result"
    }
   ],
   "source": [
    "hr.split()[:25]"
   ]
  },
  {
   "cell_type": "code",
   "execution_count": 29,
   "metadata": {
    "collapsed": true
   },
   "outputs": [],
   "source": [
    "hr_tokens = hr.split()"
   ]
  },
  {
   "cell_type": "code",
   "execution_count": 31,
   "metadata": {},
   "outputs": [
    {
     "data": {
      "text/plain": [
       "[('the', 22701),\n",
       " ('of', 11727),\n",
       " ('to', 10000),\n",
       " ('and', 9277),\n",
       " ('a', 8461),\n",
       " ('in', 8384),\n",
       " ('that', 5082),\n",
       " ('The', 4123),\n",
       " ('said', 3517),\n",
       " ('for', 3457),\n",
       " ('on', 3025),\n",
       " ('was', 2915),\n",
       " ('is', 2716),\n",
       " ('Mr', 2603),\n",
       " ('he', 2327),\n",
       " ('by', 2276),\n",
       " ('with', 2185),\n",
       " ('as', 2026),\n",
       " ('from', 1873),\n",
       " ('his', 1827),\n",
       " ('has', 1739),\n",
       " ('have', 1739),\n",
       " ('it', 1736),\n",
       " ('90', 1690),\n",
       " ('an', 1686),\n",
       " ('at', 1661),\n",
       " ('not', 1654),\n",
       " ('had', 1591),\n",
       " ('who', 1558),\n",
       " ('be', 1524),\n",
       " ('2009', 1509),\n",
       " ('were', 1505),\n",
       " ('are', 1464),\n",
       " ('New', 1285),\n",
       " ('78', 1229),\n",
       " ('they', 1203),\n",
       " ('been', 1197),\n",
       " ('York', 1195),\n",
       " ('89', 1137),\n",
       " ('A', 1086),\n",
       " ('Times', 1080),\n",
       " ('their', 1080),\n",
       " ('its', 986),\n",
       " ('United', 928),\n",
       " ('government', 917),\n",
       " ('but', 906),\n",
       " ('would', 891),\n",
       " ('I', 875),\n",
       " ('or', 853),\n",
       " ('about', 848)]"
      ]
     },
     "execution_count": 31,
     "metadata": {},
     "output_type": "execute_result"
    }
   ],
   "source": [
    "from collections import Counter\n",
    "freq = Counter(hr_tokens)\n",
    "freq.most_common(50)"
   ]
  },
  {
   "cell_type": "markdown",
   "metadata": {},
   "source": [
    "# Wow! That's a lot of stop words. \n",
    "\n",
    "How can you apply what you learned in this notebook as well as in notebook 1-4 to create a network graph? "
   ]
  },
  {
   "cell_type": "code",
   "execution_count": 32,
   "metadata": {
    "collapsed": true
   },
   "outputs": [],
   "source": [
    "## YOUR CODE HERE"
   ]
  },
  {
   "cell_type": "code",
   "execution_count": null,
   "metadata": {
    "collapsed": true
   },
   "outputs": [],
   "source": []
  }
 ],
 "metadata": {
  "kernelspec": {
   "display_name": "Python 3",
   "language": "python",
   "name": "python3"
  },
  "language_info": {
   "codemirror_mode": {
    "name": "ipython",
    "version": 3
   },
   "file_extension": ".py",
   "mimetype": "text/x-python",
   "name": "python",
   "nbconvert_exporter": "python",
   "pygments_lexer": "ipython3",
   "version": "3.6.3"
  }
 },
 "nbformat": 4,
 "nbformat_minor": 2
}
