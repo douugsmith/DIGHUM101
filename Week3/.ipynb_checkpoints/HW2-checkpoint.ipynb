{
 "cells": [
  {
   "cell_type": "markdown",
   "metadata": {},
   "source": [
    "# HW2: \n",
    "\n"
   ]
  },
  {
   "cell_type": "markdown",
   "metadata": {},
   "source": [
    "# The personal assistant\n",
    "\n",
    "As you will learn more about in Week 4, modern [automated personal assistants](https://en.wikipedia.org/wiki/Automated_personal_assistant) are just supercharged versions of what you can do in **`Bash`** using the handful of commands you have learned in DIGHUM101.  \n",
    "\n",
    "While Alexa, Cortana, and Siri use complicated machine learning algorithms to interact with users, simple Bash commands also give us the ability to combine multiple things into a single program that can take input and return output.  "
   ]
  },
  {
   "cell_type": "markdown",
   "metadata": {},
   "source": [
    "### Quick reference\n",
    "\n",
    "**`whoami`** = shows current user  \n",
    "**`pwd`** = shows current working directory  \n",
    "**`ls`** = list contents of working directory  \n",
    "**`cd`** = change directory  \n",
    "**`mkdir`** = make directory  \n",
    "**`touch`** = create file  \n",
    "**`echo`** = like **`print`** in Python  \n",
    "**`>`** = add **`echo`** statement to file  \n",
    "**`cp`** = **`cp source dest`**  \n",
    "**`rm`** = delete"
   ]
  },
  {
   "cell_type": "markdown",
   "metadata": {},
   "source": [
    "### Moving about\n",
    "\n",
    "**Some reminders about moving efficiently:  **\n",
    "\n",
    "Recall that **`cd /`** changes your working directory to the root directory  \n",
    "\n",
    "**`cd ~`** changes the working directory to the home directory  \n",
    "\n",
    "**`cd ..`** goes towards root one level  \n",
    "\n",
    "**`cd dir_name`** goes one level away from the root  "
   ]
  },
  {
   "cell_type": "markdown",
   "metadata": {},
   "source": [
    "# Example workflow\n",
    "\n",
    "**Follow this workflow to refresh your memory:  **\n",
    "\n",
    "1. Set working directory to root **`cd /`**  \n",
    "\n",
    "2. Set working directory to home **`cd ~`**  \n",
    "\n",
    "3. **`cd`** into your Desktop. We just moved one level down/away from the root - from \"home\" to \"Desktop **`cd Desktop`**  \n",
    "\n",
    "4. Create a directory on your desktop named  PA101  **`mkdir PA101`**  \n",
    "\n",
    "5. Create a file inside of PA101 named  **`assistant.sh`  **  \n",
    "\n",
    "6. Open vim by typing **`vim`** at the Bash prompt"
   ]
  },
  {
   "cell_type": "markdown",
   "metadata": {},
   "source": [
    "# vim\n",
    "\n",
    "vim is a fun and efficient command line text editor. Its raw form makes using it strange at first!  \n",
    "\n",
    "It has two modes that you must switch between to quickly add content, save your work, and exit back to the Bash prompt:  \n",
    "\n",
    "1. **Command mode**  You start vim in command mode. Here you can copy paste chunks of text. You also must switch to command mode before saving and exiting.  \n",
    "    - Press the **esc** key to switch to **command** mode.  \n",
    "    \n",
    "    \n",
    "2. **Insert mode**  Press the **i** key to switch to insert mode. Now you can enter text! \n",
    "\n",
    "    - Press the **i** key to switch to **insert** mode. You will see the word **INSERT** written in all caps in the lower left side of your terminal.  "
   ]
  },
  {
   "cell_type": "markdown",
   "metadata": {},
   "source": []
  },
  {
   "cell_type": "markdown",
   "metadata": {},
   "source": [
    "# The \"abort\" Bash command\n",
    "\n",
    "You might find yourself trying to hack Bash code together to perform various tasks. \n",
    "\n",
    "To stop whatever is happening and return the the prompt, press **`control + c`** two or three times.  \n",
    "\n",
    "Until you get the hang of **`:wq`** and **`q!`** you will find that abort is useful when you get stuck in vim."
   ]
  },
  {
   "cell_type": "code",
   "execution_count": null,
   "metadata": {
    "collapsed": true
   },
   "outputs": [],
   "source": []
  },
  {
   "cell_type": "code",
   "execution_count": null,
   "metadata": {
    "collapsed": true
   },
   "outputs": [],
   "source": []
  },
  {
   "cell_type": "code",
   "execution_count": null,
   "metadata": {
    "collapsed": true
   },
   "outputs": [],
   "source": []
  },
  {
   "cell_type": "code",
   "execution_count": null,
   "metadata": {
    "collapsed": true
   },
   "outputs": [],
   "source": []
  },
  {
   "cell_type": "code",
   "execution_count": null,
   "metadata": {
    "collapsed": true
   },
   "outputs": [],
   "source": []
  },
  {
   "cell_type": "code",
   "execution_count": null,
   "metadata": {
    "collapsed": true
   },
   "outputs": [],
   "source": []
  },
  {
   "cell_type": "code",
   "execution_count": null,
   "metadata": {
    "collapsed": true
   },
   "outputs": [],
   "source": []
  },
  {
   "cell_type": "code",
   "execution_count": null,
   "metadata": {
    "collapsed": true
   },
   "outputs": [],
   "source": []
  },
  {
   "cell_type": "code",
   "execution_count": null,
   "metadata": {
    "collapsed": true
   },
   "outputs": [],
   "source": []
  },
  {
   "cell_type": "code",
   "execution_count": null,
   "metadata": {
    "collapsed": true
   },
   "outputs": [],
   "source": []
  },
  {
   "cell_type": "markdown",
   "metadata": {},
   "source": [
    "# Challenge\n",
    "\n",
    "Open a Bash terminal using a jupyter notebook.  "
   ]
  },
  {
   "cell_type": "code",
   "execution_count": null,
   "metadata": {
    "collapsed": true
   },
   "outputs": [],
   "source": []
  }
 ],
 "metadata": {
  "kernelspec": {
   "display_name": "Python 3",
   "language": "python",
   "name": "python3"
  },
  "language_info": {
   "codemirror_mode": {
    "name": "ipython",
    "version": 3
   },
   "file_extension": ".py",
   "mimetype": "text/x-python",
   "name": "python",
   "nbconvert_exporter": "python",
   "pygments_lexer": "ipython3",
   "version": "3.6.3"
  }
 },
 "nbformat": 4,
 "nbformat_minor": 2
}
