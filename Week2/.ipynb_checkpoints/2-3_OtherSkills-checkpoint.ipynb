{
 "cells": [
  {
   "cell_type": "markdown",
   "metadata": {
    "collapsed": true
   },
   "source": [
    "# Other skills to compliment your growing Python proficiency\n",
    "\n",
    "As you progress in your programming, you will come across other skills that will help you be a better programmer. Picking up skills that are complimentary to Python from the broader ecosystem will help you better understand how to improve your efficiency and utilize larger scope and scale.  \n",
    "\n",
    "A good way to start thinking about this is in terms of two intermediate skills: 1) tracking changes in your code and 2) accessing other code (and sharing your own).  \n",
    "\n",
    "We introduce you to three helper skills to Python, divided into three sections: "
   ]
  },
  {
   "cell_type": "markdown",
   "metadata": {},
   "source": [
    "### 1. Hierarchical File System (HFS)  \n",
    "\n",
    "15 minutes\n",
    "\n",
    "It is important to know that your computer stores data in a [Hierarchical File System](https://en.wikipedia.org/wiki/Hierarchical_File_System), an inverted tree-like directory structure that can be accessed by referencing different [file paths](https://en.wikipedia.org/wiki/Path_(computing)). (15 minutes)\n",
    "\n",
    "### 2. Basic **`Bash`** functions  \n",
    "\n",
    "45 minutes\n",
    "\n",
    "Basic [**`Bash`** shell commands](https://en.wikipedia.org/wiki/Bash_(Unix_shell)) are used to navigate the HFS, and to create, move, delete, and communicate with other programs, computers, and people. Access **`Bash`** by opening Terminal (Mac) or GitBash (Windows)\n",
    "\n",
    "### 3. Using the HFS and **`Bash`** to interface with GitHub\n",
    "\n",
    "45 minutes\n",
    "\n",
    "[GitHub](https://github.com/) is a standard online code repository. You can create and store code inside of \"repositories\", or hosted folders that you copy your local changes to. Here, you will apply what you learn about the HFS and Bash commands to clone and pull, and initialize, stage, commit, and push your code. "
   ]
  },
  {
   "cell_type": "markdown",
   "metadata": {},
   "source": [
    "# 1. Hierarchical File System (HFS)  \n",
    "\n",
    "The HFS is organized into an inverted tree structure. Some important points about the HFS:  \n",
    "1. We are always in some location in the HFS (called the [working directory](https://en.wikipedia.org/wiki/Working_directory))  \n",
    "2. The word \"directory\" is synonymous with \"folder\"  \n",
    "3. A directory contains other directories and files  \n",
    "4. The [\"root\" directory](https://en.wikipedia.org/wiki/Root_directory) is the highest you can go in this hierarchy and is abbreviated by **`/`** (Mac) and **`C:\\`** (Windows) (however, see [sudo](https://en.wikipedia.org/wiki/Sudo))  \n",
    "5. Our \"home\" directory is our user and is abbreviated by **`~`**\n",
    "6. We can change our location in this structure by clicking our mouse or by using **`Bash`** commands (see below). \n",
    "\n",
    "\n",
    "- A relative file path starts from the working directory  \n",
    "- An absolute file path starts from the root!"
   ]
  },
  {
   "cell_type": "markdown",
   "metadata": {},
   "source": [
    "![hfs](img/hfs.png)"
   ]
  },
  {
   "cell_type": "markdown",
   "metadata": {},
   "source": [
    "# 2. Basic **`Bash`** functions  \n",
    "\n",
    "**`Bash`** is a highly practical scripting language. You access it through \"Terminal\" on Mac and \"GitBash\" on Windows. We are interested in a handful of commands to help us navigate our computer's HFS and eventually connect to GitHub to upload some files:  \n",
    "1. **`whoami`** - shows the current user  \n",
    "2. **`pwd`** - shows the current working directory  \n",
    "3. **`ls`** - lists files in the working directory  \n",
    "4. **`cd`** - change directory  \n",
    "5. **`mkdir`** - create directory   \n",
    "6. **`touch`** - create file  \n",
    "7. **`cat`** and **`open`** - view contents and open files  \n",
    "8. **`echo`** and pipes - print stuff and add it to a file  \n",
    "9. **`cp`** - copy and paste file  \n",
    "10. **`rm`** - delete file  \n",
    "\n",
    "Let's go through this extended challenge as a class - function by function!  \n",
    "\n",
    "First, open Terminal/GitBash. The dollar sign **$** is the **`Bash prompt`**. This means **`Bash`** is ready for us to give it some instructions!"
   ]
  },
  {
   "cell_type": "markdown",
   "metadata": {},
   "source": [
    "![bashprompt](img/bashprompt.png)"
   ]
  },
  {
   "cell_type": "markdown",
   "metadata": {},
   "source": [
    "### 1. **`whoami`**  \n",
    "\n",
    "This function will return the current user. Who are you? "
   ]
  },
  {
   "cell_type": "markdown",
   "metadata": {},
   "source": [
    "### 2. **`pwd`**  \n",
    "\n",
    "This function \"prints\" your current directory location.  \n",
    "\n",
    "**_Challenge:_** \n",
    "- Which directory is this: \"home\", \"root\", or \"working\"?"
   ]
  },
  {
   "cell_type": "markdown",
   "metadata": {},
   "source": [
    "### 3. **`ls`**  \n",
    "\n",
    "Now that we know where we are in the HFS, we want to list the contents of the working directory.  \n",
    "\n",
    "Also, like Python, **`Bash`** commands can often take other arguments. \n",
    "\n",
    "**_Challenge:_** \n",
    "- What happens to your output if you type **`ls -F`**? (hint: which character appears next to a certain file type?)"
   ]
  },
  {
   "cell_type": "markdown",
   "metadata": {},
   "source": [
    "### 4. **`cd`**  \n",
    "\n",
    "Now that we know where we are in the HFS and can see the files we have available to work with, we can now change our location with **`cd`**. \n",
    "\n",
    "This function can take a single argument: the name of the directory we want to move into. \n",
    "\n",
    "##### Refer to the HFS figure from part 1 above \n",
    "Use **`ls -F`** to see where you are and where you want to go. We are currently in our home folders:  \n",
    "\n",
    "1. **`cd Desktop`** move from your home folder to your Desktop. Here, you are moving one level down in the HFS (away from the root directory). Now type **`pwd`** - what changed? \n",
    "\n",
    "2. **`cd ..`** move one level up in the HFS (towards from the root directory). Type **`pwd`** - now what happened? \n",
    "\n",
    "3. **`cd /`** move directly to the root folder. Type **`pwd`** - what happened? \n",
    "  \n",
    "4. **`cd ~`** move directly to the home folder. Type **`pwd`** - now what happened? \n",
    "\n",
    "5. **`cd ./`** refers to the current directory    \n",
    "\n",
    "**_Challenge:_** Relative versus absolute file paths:  \n",
    "- A relative file path begins from the location when you print your working directory.  \n",
    "- An absolute file path starts from the root. \n",
    "\n",
    "\n",
    "1. **`cd`** into your home folder  \n",
    "2. Type the relative file path and **`cd`** into our DIGHUM101 folder  \n",
    "3. Type the absolute file path and **`cd`** into the DIGHUM101 folder\n",
    "\n",
    "(hint: refer to the HFS figure from part 1 above, and remember that all slashes separate folders except for the first one - because it is the root!)"
   ]
  },
  {
   "cell_type": "markdown",
   "metadata": {},
   "source": [
    "### 5. **`mkdir`**  \n",
    "\n",
    "Now that we know where we can go, we might want to create stuff. We can create new directories with **`mkdir`**. \n",
    "\n",
    "Inside DIGHUM101, create a new folder named \"OtherSkills\" by typing **`mkdir OtherSkills`**. \n",
    "\n",
    "**_Challenge:_** \n",
    "- Change your working directory to this new one. Use **`pwd`** to verify! What does **`ls`** return? "
   ]
  },
  {
   "cell_type": "markdown",
   "metadata": {},
   "source": [
    "### 6. **`touch`**  \n",
    "\n",
    "We can now create a plain text (.txt) file using **`touch`**. Type **`touch comics.txt`** to create a file named \"comics.txt\".  \n",
    "\n",
    "**_Challenge:_ 7.** **`cat`** and **`open`**\n",
    "- Run **`cat`** and **`open`** on \"comics.txt\" - what do you see?"
   ]
  },
  {
   "cell_type": "markdown",
   "metadata": {},
   "source": [
    "### 8. **`echo`** and pipes  \n",
    "\n",
    "**`echo`** is how we print stuff. \n",
    "\n",
    "Pipes can be used to take the output of something and use it as the input of something else! \n",
    "\n",
    "**_Challenge:_** \n",
    "- type **`echo 'Hello, Batman!'`** to print whatever is inside of the single quotation marks.  \n",
    "- type **`echo 'Hello, Batman!' > comics.txt`** to add this text to your \"comics.txt\" file! Now run **`cat`** or **`open`** on \"comics.txt\". What do you see? "
   ]
  },
  {
   "cell_type": "markdown",
   "metadata": {},
   "source": [
    "### 9. **`cp`**  \n",
    "\n",
    "Now that we have created a couple of things, we can copy/paste them just like we would by using the mouse or keyboard shortcuts. \n",
    "\n",
    "This function takes three arguments and the syntax looks like this **`cp source dest`**  \n",
    "1. **`cp`** tells bash we want to copy a file\n",
    "2. **`source`** is the relative or absolute file path that we want to copy the file _from_  \n",
    "3. **`des`** is the relative or absolutte file path we want to copy the file _to_  \n",
    "\n",
    "**_Challenge:_**\n",
    "- Copy \"comics.txt\" from DIGHUM101 to your Desktop. "
   ]
  },
  {
   "cell_type": "markdown",
   "metadata": {},
   "source": [
    "### 10. **`rm`**  \n",
    "\n",
    "**`rm`** is used to delete files and its syntax looks like this: **`rm filename`**  \n",
    "\n",
    "**_Challenge:_**\n",
    "- Try to delete the \"OtherSkills\" folder. What happens?  \n",
    "- Delete \"comics.txt\"  \n",
    "- Now try to delete \"OtherSkills\". \n",
    "    - _Hint:_ you must type **`rm -r OtherSkills`** to delete the folder if it contains files. This is a sort of failsafe against accidentally deleting folders with files in them. \n",
    "    - _Note:_ regular **`rm OtherSkills`** works just fine if the directory is empty. \n",
    "    - _Attention!_ Deleting is permanent - there is no recycle bin in **`Bash!`**"
   ]
  },
  {
   "cell_type": "markdown",
   "metadata": {},
   "source": [
    "#### Bonus\n",
    "\n",
    "From the Bash prompt:  \n",
    "1. How can you **make a new directory** deep inside your HFS somewhere? (hint: you only need one function and one argument)  \n",
    "2. How can you **create a new .txt file** in this new folder? (hint: you only need one function and one argument for this step as well)  \n",
    "3. Type **jupyter notebook** - what happens? \n",
    "4. what does **open www.software-carpentry.org** do? Is the error message helpful? How can you fix it? (also be sure to check out their awesome lessons)"
   ]
  },
  {
   "cell_type": "markdown",
   "metadata": {},
   "source": [
    "# 3. Using the HFS and **`Bash`** to interface with GitHub\n",
    "\n",
    "How can we put together our new knowledge of the HFS and Bash programming to store our Python code on GitHub for easy editing, version tracking, and sharing?  \n",
    "\n",
    "Doing so allows us to manage complex collaborative projects that will likely require many iterations and contributions by multiple users. \n",
    "\n",
    "To begin, use **`Bash`** to **`cd`** into your Desktop.  "
   ]
  },
  {
   "cell_type": "markdown",
   "metadata": {},
   "source": [
    "### **`git clone`** and **`git pull`**"
   ]
  },
  {
   "cell_type": "markdown",
   "metadata": {},
   "source": [
    "Instead of clicking the green \"Clone or download\" and \"Download zip\" buttons to download the repository, we can use **`git clone URL`** to \"clone\" it to our computer. Click the clipboard icon in the image below and paste it to replace **`URL`**  \n",
    "\n",
    "Then, type **`git pupll`** to ensure you have the most up to date version of the repository.  "
   ]
  },
  {
   "cell_type": "markdown",
   "metadata": {},
   "source": [
    "![github](img/github.png)"
   ]
  },
  {
   "cell_type": "markdown",
   "metadata": {},
   "source": [
    "# Walkthrough: Creating your own repository: initialize, stage, commit, and push code to GitHub"
   ]
  },
  {
   "cell_type": "markdown",
   "metadata": {},
   "source": [
    "1. Visit [https://github.com/](https://github.com/) to sign up and create a free account  \n",
    "\n",
    "2. Click \"Repositories\" --> \"New\"  \n",
    "\n",
    "3. Name your repository \"test\" (without quotations) and make sure to check the box that says \"Initialize this repository with a README\"  \n",
    "\n",
    "4. Click \"Create repository\"  \n",
    "\n",
    "5. Click the \"Clone or download\" button - but this time click the clipboard icon to copy the URL! \n",
    "\n",
    "6. In your **`Bash`** prompt, type **`git clone URL`**  \n",
    "\n",
    "7. **`cd`** into your new repo and crate a file named \"movies.txt\" that contains the name of your favorite movie! "
   ]
  },
  {
   "cell_type": "markdown",
   "metadata": {},
   "source": [
    "[Follow these steps](https://help.github.com/articles/adding-an-existing-project-to-github-using-the-command-line/) to add code to your repository. Make sure **`pwd`** returns your \"test\" folder.\n",
    "\n",
    "1. **`git init`** makes sure the repo is initialized (synced with GitHub)  \n",
    "1. **`git add .`** stages all changes  \n",
    "1. **`git commit -m \"message\"`** commits all staged changes  \n",
    "1. **`git push -u origin master`** pushes your local changes to the online repo\n",
    "\n",
    "Refresh your \"test\" repo page - did anything update? \n"
   ]
  },
  {
   "cell_type": "markdown",
   "metadata": {},
   "source": [
    "# Going further:\n",
    "\n",
    "- Bash keyboard shortcuts: https://gist.github.com/tuxfight3r/60051ac67c5f0445efee  \n",
    "\n",
    "- Add GitHub ssh key: https://help.github.com/articles/adding-a-new-ssh-key-to-your-github-account/  \n",
    "\n",
    "- Text editors: there are [many!](https://www.google.com/search?q=python+best+text+editor&oq=python+best+te&aqs=chrome.0.69i59j69i60j0j69i57j0l2.2327j0j4&sourceid=chrome&ie=UTF-8)\n",
    "\n",
    "- Bash scripting: https://linuxconfig.org/bash-scripting-tutorial-for-beginners\n",
    "\n",
    "- Software Carpentry lessons: https://software-carpentry.org/lessons/"
   ]
  },
  {
   "cell_type": "code",
   "execution_count": null,
   "metadata": {
    "collapsed": true
   },
   "outputs": [],
   "source": []
  }
 ],
 "metadata": {
  "kernelspec": {
   "display_name": "Python 3",
   "language": "python",
   "name": "python3"
  },
  "language_info": {
   "codemirror_mode": {
    "name": "ipython",
    "version": 3
   },
   "file_extension": ".py",
   "mimetype": "text/x-python",
   "name": "python",
   "nbconvert_exporter": "python",
   "pygments_lexer": "ipython3",
   "version": "3.6.3"
  }
 },
 "nbformat": 4,
 "nbformat_minor": 2
}
